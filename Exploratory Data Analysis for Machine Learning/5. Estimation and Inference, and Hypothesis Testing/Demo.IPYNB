{
 "metadata": {
  "language_info": {
   "codemirror_mode": {
    "name": "ipython",
    "version": 3
   },
   "file_extension": ".py",
   "mimetype": "text/x-python",
   "name": "python",
   "nbconvert_exporter": "python",
   "pygments_lexer": "ipython3",
   "version": "3.8.5"
  },
  "orig_nbformat": 2,
  "kernelspec": {
   "name": "python385jvsc74a57bd02678d1fd77d063289def3227202f6d686e39f105e03dc34e17eba2fd34326a41",
   "display_name": "Python 3.8.5 64-bit ('base': conda)"
  }
 },
 "nbformat": 4,
 "nbformat_minor": 2,
 "cells": [
  {
   "source": [
    "# Machine Learning Foundation\n",
    "\n",
    "## Section 1, Part e: Hypothesis Testing "
   ],
   "cell_type": "markdown",
   "metadata": {}
  },
  {
   "source": [
    "# Tujuan Pembelajaran :\n",
    "- mengetahui perbedaan antara  H0 dan H1 ( alternatif) hipotesis \n",
    "- menulis hipotesis  sendiri untuk keperlua testing "
   ],
   "cell_type": "markdown",
   "metadata": {}
  },
  {
   "cell_type": "code",
   "execution_count": 5,
   "metadata": {},
   "outputs": [
    {
     "output_type": "stream",
     "name": "stdout",
     "text": [
      "Populating the interactive namespace from numpy and matplotlib\n"
     ]
    }
   ],
   "source": [
    "%pylab inline \n",
    "\n",
    "%config InlineBackend.figure_formats=['svg']\n",
    "import matplotlib.pyplot as plt \n",
    "import numpy as np \n",
    "from scipy import stats\n",
    "import math "
   ]
  },
  {
   "source": [
    "# Hipotesis null \n",
    "\n",
    "Misalnya  saya dapat menebak  sisi koin yang akan mucul ketika dilempar. Disini akan dilakukan 100 kali lemparan  darn dari 100 kali ini yang berhasil  itu ada 57,\n"
   ],
   "cell_type": "markdown",
   "metadata": {}
  },
  {
   "source": [
    "# Menentukan  HO dan H1\n",
    "\n",
    "H0: Saya tidak istimewa; tingkat prediksi koin yang dilempar benar sebenarnya adalah 0,5.\n",
    "\n",
    "Tetapi bahkan di bawah hipotesis ini, saya bisa mendapatkan 57 dari 100 benar. Jadi, apakah saya beruntung (secara kebetulan) atau apakah saya cenayang ?\n",
    "\n",
    "H1 : tingkat  kebenaran prediksi saya yang akurat itu lebih dari 0.5.\n",
    "\n",
    "Hal yang diukur dari percobaan pelemparan koin , atau  pengujian statistik  , adalah jumlah prediksi pelemparan koin  yang benar dari 100.\n",
    "\n",
    "Jika hipotesis nol benar, statistik pengujian didistribusikan secara binomial dengan parameter `n = 100` dan` p = 0,5`. Artinya, jika kita mengulangi seluruh percobaan berkali-kali, kita akan melihat distribusi seperti itu untuk semua hasil.\n",
    "\n",
    "Jadi, jika hipotesis nol benar, seberapa besar kemungkinan akan mendapatkan 57 atau lebih pelemparan  koin yang benar?\n"
   ],
   "cell_type": "markdown",
   "metadata": {}
  },
  {
   "cell_type": "code",
   "execution_count": 7,
   "metadata": {},
   "outputs": [
    {
     "output_type": "stream",
     "name": "stdout",
     "text": [
      "9.7%\n"
     ]
    }
   ],
   "source": [
    "from scipy.stats import binom \n",
    "prob = 1- binom.cdf(56,100,0.5)\n",
    "print(str(round(prob * 100 , 1))+\"%\")"
   ]
  }
 ]
}