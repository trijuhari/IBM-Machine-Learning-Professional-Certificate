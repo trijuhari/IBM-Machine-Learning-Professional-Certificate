{
 "cells": [
  {
   "cell_type": "markdown",
   "metadata": {},
   "source": [
    "# Machine Learning Foundation\n",
    "\n",
    "## Section 1, Part a: Reading Data "
   ]
  },
  {
   "cell_type": "markdown",
   "metadata": {},
   "source": [
    "# Machine Learning Foundation\n",
    "\n",
    "## BAB 1 (Membaca Data)\n",
    "\n",
    "### Tujuan Pembelajaran \n",
    "- melakukan koneksi ke database dan membaca data  dari database\n",
    "- melakukan ekplor input masukan \n",
    "\n",
    "\n",
    "### Library yang digunakan \n",
    "\n",
    "\n",
    " - [Pandas](https://pandas.pydata.org/pandas-docs/stable/)\n",
    " - [Pandas.read_sql](https://pandas.pydata.org/pandas-docs/stable/reference/api/pandas.read_sql.html)\n",
    " - [SQLite3](https://docs.python.org/3.6/library/sqlite3.html)"
   ]
  },
  {
   "cell_type": "markdown",
   "metadata": {},
   "source": []
  },
  {
   "cell_type": "code",
   "execution_count": 2,
   "metadata": {},
   "outputs": [],
   "source": [
    "# Imports\n",
    "import sqlite3 as sq3\n",
    "import pandas.io.sql as pds\n",
    "import pandas as pd"
   ]
  },
  {
   "cell_type": "markdown",
   "metadata": {},
   "source": [
    "### Koneksi Database\n",
    "\n",
    "Langkah pertama yaitu membuat koneksi ke database menggunakan  python diantaranya :\n",
    "\n",
    " - Microsoft SQL Server\n",
    " - Postgres\n",
    " - MySQL\n",
    " - AWS Redshift\n",
    " - AWS Aurora\n",
    " - Oracle DB\n",
    " - Terradata\n",
    " - Db2 Family\n",
    " - Many, many other\n",
    "\n",
    " Namun setiap database memiliki kebutuhan  yang berbeda  dalam proses konfigurasinya.\n",
    " Disini akan menggunakan sqlite3  untuk menghubungkan ke databasenya, tapi dengan  library yang lainnya juga seperti :\n",
    "\n",
    " \n",
    " - [`SQLAlchemy`](https://www.sqlalchemy.org/) \n",
    " - [`psycopg2`](http://initd.org/psycopg/)\n",
    " - [`MySQLdb`](http://mysql-python.sourceforge.net/MySQLdb.html)\n",
    "  "
   ]
  },
  {
   "cell_type": "code",
   "execution_count": 3,
   "metadata": {},
   "outputs": [],
   "source": [
    "# inisiasi lokasi database \n",
    "# melakukan koneksi ke database\n",
    "path = 'data/classic_rock.db'\n",
    "con = sq3.Connection(path)\n",
    "\n",
    " "
   ]
  },
  {
   "cell_type": "markdown",
   "metadata": {},
   "source": [
    "### Reading data\n"
   ]
  },
  {
   "cell_type": "code",
   "execution_count": 19,
   "metadata": {},
   "outputs": [
    {
     "output_type": "execute_result",
     "data": {
      "text/plain": [
       "                     Song        Artist  Release_Year  PlayCount\n",
       "0        Caught Up in You   .38 Special        1982.0         82\n",
       "1         Hold On Loosely   .38 Special        1981.0         85\n",
       "2  Rockin' Into the Night   .38 Special        1980.0         18\n",
       "3       Art For Arts Sake          10cc        1975.0          1\n",
       "4              Kryptonite  3 Doors Down        2000.0         13"
      ],
      "text/html": "<div>\n<style scoped>\n    .dataframe tbody tr th:only-of-type {\n        vertical-align: middle;\n    }\n\n    .dataframe tbody tr th {\n        vertical-align: top;\n    }\n\n    .dataframe thead th {\n        text-align: right;\n    }\n</style>\n<table border=\"1\" class=\"dataframe\">\n  <thead>\n    <tr style=\"text-align: right;\">\n      <th></th>\n      <th>Song</th>\n      <th>Artist</th>\n      <th>Release_Year</th>\n      <th>PlayCount</th>\n    </tr>\n  </thead>\n  <tbody>\n    <tr>\n      <th>0</th>\n      <td>Caught Up in You</td>\n      <td>.38 Special</td>\n      <td>1982.0</td>\n      <td>82</td>\n    </tr>\n    <tr>\n      <th>1</th>\n      <td>Hold On Loosely</td>\n      <td>.38 Special</td>\n      <td>1981.0</td>\n      <td>85</td>\n    </tr>\n    <tr>\n      <th>2</th>\n      <td>Rockin' Into the Night</td>\n      <td>.38 Special</td>\n      <td>1980.0</td>\n      <td>18</td>\n    </tr>\n    <tr>\n      <th>3</th>\n      <td>Art For Arts Sake</td>\n      <td>10cc</td>\n      <td>1975.0</td>\n      <td>1</td>\n    </tr>\n    <tr>\n      <th>4</th>\n      <td>Kryptonite</td>\n      <td>3 Doors Down</td>\n      <td>2000.0</td>\n      <td>13</td>\n    </tr>\n  </tbody>\n</table>\n</div>"
     },
     "metadata": {},
     "execution_count": 19
    }
   ],
   "source": [
    "# Write the query\n",
    "query = '''\n",
    "SELECT * \n",
    "FROM rock_songs;\n",
    "'''\n",
    "\n",
    "# Execute the query\n",
    "observations = pds.read_sql(query, con)\n",
    "\n",
    "observations.head()"
   ]
  },
  {
   "cell_type": "code",
   "execution_count": 6,
   "metadata": {},
   "outputs": [
    {
     "output_type": "execute_result",
     "data": {
      "text/plain": [
       "                     Song        Artist  Release_Year  PlayCount\n",
       "0        Caught Up in You   .38 Special        1982.0         82\n",
       "1         Hold On Loosely   .38 Special        1981.0         85\n",
       "2  Rockin' Into the Night   .38 Special        1980.0         18\n",
       "3       Art For Arts Sake          10cc        1975.0          1\n",
       "4              Kryptonite  3 Doors Down        2000.0         13"
      ],
      "text/html": "<div>\n<style scoped>\n    .dataframe tbody tr th:only-of-type {\n        vertical-align: middle;\n    }\n\n    .dataframe tbody tr th {\n        vertical-align: top;\n    }\n\n    .dataframe thead th {\n        text-align: right;\n    }\n</style>\n<table border=\"1\" class=\"dataframe\">\n  <thead>\n    <tr style=\"text-align: right;\">\n      <th></th>\n      <th>Song</th>\n      <th>Artist</th>\n      <th>Release_Year</th>\n      <th>PlayCount</th>\n    </tr>\n  </thead>\n  <tbody>\n    <tr>\n      <th>0</th>\n      <td>Caught Up in You</td>\n      <td>.38 Special</td>\n      <td>1982.0</td>\n      <td>82</td>\n    </tr>\n    <tr>\n      <th>1</th>\n      <td>Hold On Loosely</td>\n      <td>.38 Special</td>\n      <td>1981.0</td>\n      <td>85</td>\n    </tr>\n    <tr>\n      <th>2</th>\n      <td>Rockin' Into the Night</td>\n      <td>.38 Special</td>\n      <td>1980.0</td>\n      <td>18</td>\n    </tr>\n    <tr>\n      <th>3</th>\n      <td>Art For Arts Sake</td>\n      <td>10cc</td>\n      <td>1975.0</td>\n      <td>1</td>\n    </tr>\n    <tr>\n      <th>4</th>\n      <td>Kryptonite</td>\n      <td>3 Doors Down</td>\n      <td>2000.0</td>\n      <td>13</td>\n    </tr>\n  </tbody>\n</table>\n</div>"
     },
     "metadata": {},
     "execution_count": 6
    }
   ],
   "source": [
    "query = ''' SELECT * FROM rock_songs;'''\n",
    "\n",
    "#eksekusi  query\n",
    "\n",
    "df = pds.read_sql(query, con)\n",
    "df.head()"
   ]
  },
  {
   "cell_type": "code",
   "execution_count": 12,
   "metadata": {},
   "outputs": [
    {
     "output_type": "execute_result",
     "data": {
      "text/plain": [
       "         Artist  Release_Year  num_songs  avg_plays\n",
       "0   The Beatles        1967.0         23   6.565217\n",
       "1  Led Zeppelin        1969.0         18  21.000000\n",
       "2   The Beatles        1965.0         15   3.800000\n",
       "3   The Beatles        1968.0         13  13.000000\n",
       "4   The Beatles        1969.0         13  15.000000"
      ],
      "text/html": "<div>\n<style scoped>\n    .dataframe tbody tr th:only-of-type {\n        vertical-align: middle;\n    }\n\n    .dataframe tbody tr th {\n        vertical-align: top;\n    }\n\n    .dataframe thead th {\n        text-align: right;\n    }\n</style>\n<table border=\"1\" class=\"dataframe\">\n  <thead>\n    <tr style=\"text-align: right;\">\n      <th></th>\n      <th>Artist</th>\n      <th>Release_Year</th>\n      <th>num_songs</th>\n      <th>avg_plays</th>\n    </tr>\n  </thead>\n  <tbody>\n    <tr>\n      <th>0</th>\n      <td>The Beatles</td>\n      <td>1967.0</td>\n      <td>23</td>\n      <td>6.565217</td>\n    </tr>\n    <tr>\n      <th>1</th>\n      <td>Led Zeppelin</td>\n      <td>1969.0</td>\n      <td>18</td>\n      <td>21.000000</td>\n    </tr>\n    <tr>\n      <th>2</th>\n      <td>The Beatles</td>\n      <td>1965.0</td>\n      <td>15</td>\n      <td>3.800000</td>\n    </tr>\n    <tr>\n      <th>3</th>\n      <td>The Beatles</td>\n      <td>1968.0</td>\n      <td>13</td>\n      <td>13.000000</td>\n    </tr>\n    <tr>\n      <th>4</th>\n      <td>The Beatles</td>\n      <td>1969.0</td>\n      <td>13</td>\n      <td>15.000000</td>\n    </tr>\n  </tbody>\n</table>\n</div>"
     },
     "metadata": {},
     "execution_count": 12
    }
   ],
   "source": [
    "# We can also run any supported SQL query\n",
    "# Write the query\n",
    "query = '''\n",
    "SELECT Artist, Release_Year, COUNT(*) AS num_songs, AVG(PlayCount) AS avg_plays  \n",
    "    FROM rock_songs\n",
    "    GROUP BY Artist, Release_Year\n",
    "    ORDER BY num_songs desc;\n",
    "'''\n",
    "\n",
    "# Execute the query\n",
    "observations = pds.read_sql(query, con)\n",
    "\n",
    "observations.head()"
   ]
  },
  {
   "cell_type": "code",
   "execution_count": 11,
   "metadata": {},
   "outputs": [
    {
     "output_type": "execute_result",
     "data": {
      "text/plain": [
       "         Artist  Release_Year  jumlah_lagu  average_play\n",
       "0   The Beatles        1967.0           23      6.565217\n",
       "1  Led Zeppelin        1969.0           18     21.000000\n",
       "2   The Beatles        1965.0           15      3.800000\n",
       "3   The Beatles        1968.0           13     13.000000\n",
       "4   The Beatles        1969.0           13     15.000000"
      ],
      "text/html": "<div>\n<style scoped>\n    .dataframe tbody tr th:only-of-type {\n        vertical-align: middle;\n    }\n\n    .dataframe tbody tr th {\n        vertical-align: top;\n    }\n\n    .dataframe thead th {\n        text-align: right;\n    }\n</style>\n<table border=\"1\" class=\"dataframe\">\n  <thead>\n    <tr style=\"text-align: right;\">\n      <th></th>\n      <th>Artist</th>\n      <th>Release_Year</th>\n      <th>jumlah_lagu</th>\n      <th>average_play</th>\n    </tr>\n  </thead>\n  <tbody>\n    <tr>\n      <th>0</th>\n      <td>The Beatles</td>\n      <td>1967.0</td>\n      <td>23</td>\n      <td>6.565217</td>\n    </tr>\n    <tr>\n      <th>1</th>\n      <td>Led Zeppelin</td>\n      <td>1969.0</td>\n      <td>18</td>\n      <td>21.000000</td>\n    </tr>\n    <tr>\n      <th>2</th>\n      <td>The Beatles</td>\n      <td>1965.0</td>\n      <td>15</td>\n      <td>3.800000</td>\n    </tr>\n    <tr>\n      <th>3</th>\n      <td>The Beatles</td>\n      <td>1968.0</td>\n      <td>13</td>\n      <td>13.000000</td>\n    </tr>\n    <tr>\n      <th>4</th>\n      <td>The Beatles</td>\n      <td>1969.0</td>\n      <td>13</td>\n      <td>15.000000</td>\n    </tr>\n  </tbody>\n</table>\n</div>"
     },
     "metadata": {},
     "execution_count": 11
    }
   ],
   "source": [
    "query = ''' SELECT Artist, release_Year, Count(*) as jumlah_lagu, avg(PlayCount) as average_play\n",
    "            FROM rock_songs \n",
    "            GROUP BY  Artist, Release_Year\n",
    "            ORDER BY jumlah_lagu desc;'''\n",
    "df = pds.read_sql(query, con)\n",
    "df.head()"
   ]
  },
  {
   "cell_type": "code",
   "execution_count": null,
   "metadata": {},
   "outputs": [],
   "source": []
  },
  {
   "cell_type": "markdown",
   "metadata": {},
   "source": [
    "##  parameter tambahan\n",
    "\n",
    "ada beberrapa parameter yang dapat ditambahkan ketika akan mengeksekusi query\n",
    "\n",
    " - coerce_float: Mengubah angka menjadi float\n",
    " - parse_dates:  mengubah kedalam bentuk tipe waktu \n",
    " - chunksize: Jumlah baris untuk disertakan di setiap bagian\n",
    " \n",
    "Let's have a look at using some of these parameters"
   ]
  },
  {
   "cell_type": "code",
   "execution_count": 24,
   "metadata": {},
   "outputs": [
    {
     "output_type": "stream",
     "name": "stdout",
     "text": [
      "observation index :0\n"
     ]
    },
    {
     "output_type": "display_data",
     "data": {
      "text/plain": "           Artist  Release_Year  num_songs  avg_plays\n0     The Beatles        1967.0         23   6.565217\n1    Led Zeppelin        1969.0         18  21.000000\n2     The Beatles        1965.0         15   3.800000\n3     The Beatles        1968.0         13  13.000000\n4     The Beatles        1969.0         13  15.000000\n5    Led Zeppelin        1970.0         12  13.166667\n6    Led Zeppelin        1975.0         12  14.166667\n7      Pink Floyd        1979.0         11  41.454545\n8      Pink Floyd        1973.0         10  29.100000\n9       The Doors        1967.0         10  28.900000\n10  Fleetwood Mac        1977.0          9  35.666667",
      "text/html": "<div>\n<style scoped>\n    .dataframe tbody tr th:only-of-type {\n        vertical-align: middle;\n    }\n\n    .dataframe tbody tr th {\n        vertical-align: top;\n    }\n\n    .dataframe thead th {\n        text-align: right;\n    }\n</style>\n<table border=\"1\" class=\"dataframe\">\n  <thead>\n    <tr style=\"text-align: right;\">\n      <th></th>\n      <th>Artist</th>\n      <th>Release_Year</th>\n      <th>num_songs</th>\n      <th>avg_plays</th>\n    </tr>\n  </thead>\n  <tbody>\n    <tr>\n      <th>0</th>\n      <td>The Beatles</td>\n      <td>1967.0</td>\n      <td>23</td>\n      <td>6.565217</td>\n    </tr>\n    <tr>\n      <th>1</th>\n      <td>Led Zeppelin</td>\n      <td>1969.0</td>\n      <td>18</td>\n      <td>21.000000</td>\n    </tr>\n    <tr>\n      <th>2</th>\n      <td>The Beatles</td>\n      <td>1965.0</td>\n      <td>15</td>\n      <td>3.800000</td>\n    </tr>\n    <tr>\n      <th>3</th>\n      <td>The Beatles</td>\n      <td>1968.0</td>\n      <td>13</td>\n      <td>13.000000</td>\n    </tr>\n    <tr>\n      <th>4</th>\n      <td>The Beatles</td>\n      <td>1969.0</td>\n      <td>13</td>\n      <td>15.000000</td>\n    </tr>\n    <tr>\n      <th>5</th>\n      <td>Led Zeppelin</td>\n      <td>1970.0</td>\n      <td>12</td>\n      <td>13.166667</td>\n    </tr>\n    <tr>\n      <th>6</th>\n      <td>Led Zeppelin</td>\n      <td>1975.0</td>\n      <td>12</td>\n      <td>14.166667</td>\n    </tr>\n    <tr>\n      <th>7</th>\n      <td>Pink Floyd</td>\n      <td>1979.0</td>\n      <td>11</td>\n      <td>41.454545</td>\n    </tr>\n    <tr>\n      <th>8</th>\n      <td>Pink Floyd</td>\n      <td>1973.0</td>\n      <td>10</td>\n      <td>29.100000</td>\n    </tr>\n    <tr>\n      <th>9</th>\n      <td>The Doors</td>\n      <td>1967.0</td>\n      <td>10</td>\n      <td>28.900000</td>\n    </tr>\n    <tr>\n      <th>10</th>\n      <td>Fleetwood Mac</td>\n      <td>1977.0</td>\n      <td>9</td>\n      <td>35.666667</td>\n    </tr>\n  </tbody>\n</table>\n</div>"
     },
     "metadata": {}
    },
    {
     "output_type": "stream",
     "name": "stdout",
     "text": [
      "observation index :1\n"
     ]
    },
    {
     "output_type": "display_data",
     "data": {
      "text/plain": "               Artist  Release_Year  num_songs  avg_plays\n0        Jimi Hendrix        1967.0          9  24.888889\n1         The Beatles        1963.0          9   2.444444\n2         The Beatles        1964.0          9   3.111111\n3          Elton John        1973.0          8  18.500000\n4        Led Zeppelin        1971.0          8  47.750000\n5        Led Zeppelin        1973.0          8  34.125000\n6              Boston        1976.0          7  69.285714\n7      Rolling Stones        1969.0          7  36.142857\n8           Van Halen        1978.0          7  51.142857\n9   Bruce Springsteen        1975.0          6   7.666667\n10  Bruce Springsteen        1984.0          6  11.500000",
      "text/html": "<div>\n<style scoped>\n    .dataframe tbody tr th:only-of-type {\n        vertical-align: middle;\n    }\n\n    .dataframe tbody tr th {\n        vertical-align: top;\n    }\n\n    .dataframe thead th {\n        text-align: right;\n    }\n</style>\n<table border=\"1\" class=\"dataframe\">\n  <thead>\n    <tr style=\"text-align: right;\">\n      <th></th>\n      <th>Artist</th>\n      <th>Release_Year</th>\n      <th>num_songs</th>\n      <th>avg_plays</th>\n    </tr>\n  </thead>\n  <tbody>\n    <tr>\n      <th>0</th>\n      <td>Jimi Hendrix</td>\n      <td>1967.0</td>\n      <td>9</td>\n      <td>24.888889</td>\n    </tr>\n    <tr>\n      <th>1</th>\n      <td>The Beatles</td>\n      <td>1963.0</td>\n      <td>9</td>\n      <td>2.444444</td>\n    </tr>\n    <tr>\n      <th>2</th>\n      <td>The Beatles</td>\n      <td>1964.0</td>\n      <td>9</td>\n      <td>3.111111</td>\n    </tr>\n    <tr>\n      <th>3</th>\n      <td>Elton John</td>\n      <td>1973.0</td>\n      <td>8</td>\n      <td>18.500000</td>\n    </tr>\n    <tr>\n      <th>4</th>\n      <td>Led Zeppelin</td>\n      <td>1971.0</td>\n      <td>8</td>\n      <td>47.750000</td>\n    </tr>\n    <tr>\n      <th>5</th>\n      <td>Led Zeppelin</td>\n      <td>1973.0</td>\n      <td>8</td>\n      <td>34.125000</td>\n    </tr>\n    <tr>\n      <th>6</th>\n      <td>Boston</td>\n      <td>1976.0</td>\n      <td>7</td>\n      <td>69.285714</td>\n    </tr>\n    <tr>\n      <th>7</th>\n      <td>Rolling Stones</td>\n      <td>1969.0</td>\n      <td>7</td>\n      <td>36.142857</td>\n    </tr>\n    <tr>\n      <th>8</th>\n      <td>Van Halen</td>\n      <td>1978.0</td>\n      <td>7</td>\n      <td>51.142857</td>\n    </tr>\n    <tr>\n      <th>9</th>\n      <td>Bruce Springsteen</td>\n      <td>1975.0</td>\n      <td>6</td>\n      <td>7.666667</td>\n    </tr>\n    <tr>\n      <th>10</th>\n      <td>Bruce Springsteen</td>\n      <td>1984.0</td>\n      <td>6</td>\n      <td>11.500000</td>\n    </tr>\n  </tbody>\n</table>\n</div>"
     },
     "metadata": {}
    },
    {
     "output_type": "stream",
     "name": "stdout",
     "text": [
      "observation index :2\n"
     ]
    },
    {
     "output_type": "display_data",
     "data": {
      "text/plain": "                          Artist  Release_Year  num_songs  avg_plays\n0   Creedence Clearwater Revival        1969.0          6  23.833333\n1   Creedence Clearwater Revival        1970.0          6  18.833333\n2                    Def Leppard        1987.0          6  32.000000\n3                        Nirvana        1991.0          6  14.666667\n4         Paul McCartney & Wings        1973.0          6  25.500000\n5                    The Beatles        1966.0          6   6.000000\n6                        The Who        1971.0          6  44.000000\n7                          AC/DC        1980.0          5  73.800000\n8                      Aerosmith        1975.0          5  50.800000\n9                     Billy Joel        1977.0          5  11.200000\n10                 Black Sabbath        1970.0          5  30.600000",
      "text/html": "<div>\n<style scoped>\n    .dataframe tbody tr th:only-of-type {\n        vertical-align: middle;\n    }\n\n    .dataframe tbody tr th {\n        vertical-align: top;\n    }\n\n    .dataframe thead th {\n        text-align: right;\n    }\n</style>\n<table border=\"1\" class=\"dataframe\">\n  <thead>\n    <tr style=\"text-align: right;\">\n      <th></th>\n      <th>Artist</th>\n      <th>Release_Year</th>\n      <th>num_songs</th>\n      <th>avg_plays</th>\n    </tr>\n  </thead>\n  <tbody>\n    <tr>\n      <th>0</th>\n      <td>Creedence Clearwater Revival</td>\n      <td>1969.0</td>\n      <td>6</td>\n      <td>23.833333</td>\n    </tr>\n    <tr>\n      <th>1</th>\n      <td>Creedence Clearwater Revival</td>\n      <td>1970.0</td>\n      <td>6</td>\n      <td>18.833333</td>\n    </tr>\n    <tr>\n      <th>2</th>\n      <td>Def Leppard</td>\n      <td>1987.0</td>\n      <td>6</td>\n      <td>32.000000</td>\n    </tr>\n    <tr>\n      <th>3</th>\n      <td>Nirvana</td>\n      <td>1991.0</td>\n      <td>6</td>\n      <td>14.666667</td>\n    </tr>\n    <tr>\n      <th>4</th>\n      <td>Paul McCartney &amp; Wings</td>\n      <td>1973.0</td>\n      <td>6</td>\n      <td>25.500000</td>\n    </tr>\n    <tr>\n      <th>5</th>\n      <td>The Beatles</td>\n      <td>1966.0</td>\n      <td>6</td>\n      <td>6.000000</td>\n    </tr>\n    <tr>\n      <th>6</th>\n      <td>The Who</td>\n      <td>1971.0</td>\n      <td>6</td>\n      <td>44.000000</td>\n    </tr>\n    <tr>\n      <th>7</th>\n      <td>AC/DC</td>\n      <td>1980.0</td>\n      <td>5</td>\n      <td>73.800000</td>\n    </tr>\n    <tr>\n      <th>8</th>\n      <td>Aerosmith</td>\n      <td>1975.0</td>\n      <td>5</td>\n      <td>50.800000</td>\n    </tr>\n    <tr>\n      <th>9</th>\n      <td>Billy Joel</td>\n      <td>1977.0</td>\n      <td>5</td>\n      <td>11.200000</td>\n    </tr>\n    <tr>\n      <th>10</th>\n      <td>Black Sabbath</td>\n      <td>1970.0</td>\n      <td>5</td>\n      <td>30.600000</td>\n    </tr>\n  </tbody>\n</table>\n</div>"
     },
     "metadata": {}
    },
    {
     "output_type": "stream",
     "name": "stdout",
     "text": [
      "observation index :3\n"
     ]
    },
    {
     "output_type": "display_data",
     "data": {
      "text/plain": "               Artist  Release_Year  num_songs  avg_plays\n0   Bruce Springsteen        1973.0          5        2.6\n1              Eagles        1979.0          5       28.0\n2       Guns N' Roses        1987.0          5       47.2\n3        Led Zeppelin        1979.0          5       33.6\n4      Lynyrd Skynyrd        1974.0          5       35.0\n5           Metallica        1991.0          5       14.0\n6      Rolling Stones        1965.0          5       16.2\n7      Rolling Stones        1971.0          5       10.6\n8         The Beatles        1970.0          5        7.8\n9                  U2        1987.0          5       28.8\n10             ZZ Top        1983.0          5       71.4",
      "text/html": "<div>\n<style scoped>\n    .dataframe tbody tr th:only-of-type {\n        vertical-align: middle;\n    }\n\n    .dataframe tbody tr th {\n        vertical-align: top;\n    }\n\n    .dataframe thead th {\n        text-align: right;\n    }\n</style>\n<table border=\"1\" class=\"dataframe\">\n  <thead>\n    <tr style=\"text-align: right;\">\n      <th></th>\n      <th>Artist</th>\n      <th>Release_Year</th>\n      <th>num_songs</th>\n      <th>avg_plays</th>\n    </tr>\n  </thead>\n  <tbody>\n    <tr>\n      <th>0</th>\n      <td>Bruce Springsteen</td>\n      <td>1973.0</td>\n      <td>5</td>\n      <td>2.6</td>\n    </tr>\n    <tr>\n      <th>1</th>\n      <td>Eagles</td>\n      <td>1979.0</td>\n      <td>5</td>\n      <td>28.0</td>\n    </tr>\n    <tr>\n      <th>2</th>\n      <td>Guns N' Roses</td>\n      <td>1987.0</td>\n      <td>5</td>\n      <td>47.2</td>\n    </tr>\n    <tr>\n      <th>3</th>\n      <td>Led Zeppelin</td>\n      <td>1979.0</td>\n      <td>5</td>\n      <td>33.6</td>\n    </tr>\n    <tr>\n      <th>4</th>\n      <td>Lynyrd Skynyrd</td>\n      <td>1974.0</td>\n      <td>5</td>\n      <td>35.0</td>\n    </tr>\n    <tr>\n      <th>5</th>\n      <td>Metallica</td>\n      <td>1991.0</td>\n      <td>5</td>\n      <td>14.0</td>\n    </tr>\n    <tr>\n      <th>6</th>\n      <td>Rolling Stones</td>\n      <td>1965.0</td>\n      <td>5</td>\n      <td>16.2</td>\n    </tr>\n    <tr>\n      <th>7</th>\n      <td>Rolling Stones</td>\n      <td>1971.0</td>\n      <td>5</td>\n      <td>10.6</td>\n    </tr>\n    <tr>\n      <th>8</th>\n      <td>The Beatles</td>\n      <td>1970.0</td>\n      <td>5</td>\n      <td>7.8</td>\n    </tr>\n    <tr>\n      <th>9</th>\n      <td>U2</td>\n      <td>1987.0</td>\n      <td>5</td>\n      <td>28.8</td>\n    </tr>\n    <tr>\n      <th>10</th>\n      <td>ZZ Top</td>\n      <td>1983.0</td>\n      <td>5</td>\n      <td>71.4</td>\n    </tr>\n  </tbody>\n</table>\n</div>"
     },
     "metadata": {}
    },
    {
     "output_type": "stream",
     "name": "stdout",
     "text": [
      "observation index :4\n"
     ]
    },
    {
     "output_type": "display_data",
     "data": {
      "text/plain": "             Artist  Release_Year  num_songs  avg_plays\n0             AC/DC        1979.0          4      24.25\n1   Alice In Chains        1992.0          4       1.75\n2         Bob Seger        1978.0          4      25.25\n3       Bryan Adams        1984.0          4      24.75\n4      Dire Straits        1985.0          4      27.50\n5            Eagles        1976.0          4      50.50\n6      Eric Clapton        1977.0          4      27.50\n7     Grateful Dead        1970.0          4       6.75\n8    Jackson Browne        1977.0          4      15.75\n9   John Mellencamp        1985.0          4      16.75\n10   Lynyrd Skynyrd        1973.0          4      50.00",
      "text/html": "<div>\n<style scoped>\n    .dataframe tbody tr th:only-of-type {\n        vertical-align: middle;\n    }\n\n    .dataframe tbody tr th {\n        vertical-align: top;\n    }\n\n    .dataframe thead th {\n        text-align: right;\n    }\n</style>\n<table border=\"1\" class=\"dataframe\">\n  <thead>\n    <tr style=\"text-align: right;\">\n      <th></th>\n      <th>Artist</th>\n      <th>Release_Year</th>\n      <th>num_songs</th>\n      <th>avg_plays</th>\n    </tr>\n  </thead>\n  <tbody>\n    <tr>\n      <th>0</th>\n      <td>AC/DC</td>\n      <td>1979.0</td>\n      <td>4</td>\n      <td>24.25</td>\n    </tr>\n    <tr>\n      <th>1</th>\n      <td>Alice In Chains</td>\n      <td>1992.0</td>\n      <td>4</td>\n      <td>1.75</td>\n    </tr>\n    <tr>\n      <th>2</th>\n      <td>Bob Seger</td>\n      <td>1978.0</td>\n      <td>4</td>\n      <td>25.25</td>\n    </tr>\n    <tr>\n      <th>3</th>\n      <td>Bryan Adams</td>\n      <td>1984.0</td>\n      <td>4</td>\n      <td>24.75</td>\n    </tr>\n    <tr>\n      <th>4</th>\n      <td>Dire Straits</td>\n      <td>1985.0</td>\n      <td>4</td>\n      <td>27.50</td>\n    </tr>\n    <tr>\n      <th>5</th>\n      <td>Eagles</td>\n      <td>1976.0</td>\n      <td>4</td>\n      <td>50.50</td>\n    </tr>\n    <tr>\n      <th>6</th>\n      <td>Eric Clapton</td>\n      <td>1977.0</td>\n      <td>4</td>\n      <td>27.50</td>\n    </tr>\n    <tr>\n      <th>7</th>\n      <td>Grateful Dead</td>\n      <td>1970.0</td>\n      <td>4</td>\n      <td>6.75</td>\n    </tr>\n    <tr>\n      <th>8</th>\n      <td>Jackson Browne</td>\n      <td>1977.0</td>\n      <td>4</td>\n      <td>15.75</td>\n    </tr>\n    <tr>\n      <th>9</th>\n      <td>John Mellencamp</td>\n      <td>1985.0</td>\n      <td>4</td>\n      <td>16.75</td>\n    </tr>\n    <tr>\n      <th>10</th>\n      <td>Lynyrd Skynyrd</td>\n      <td>1973.0</td>\n      <td>4</td>\n      <td>50.00</td>\n    </tr>\n  </tbody>\n</table>\n</div>"
     },
     "metadata": {}
    },
    {
     "output_type": "stream",
     "name": "stdout",
     "text": [
      "observation index :5\n"
     ]
    },
    {
     "output_type": "display_data",
     "data": {
      "text/plain": "            Artist  Release_Year  num_songs  avg_plays\n0      Motley Crue        1989.0          4      12.50\n1    Ozzy Osbourne        1980.0          4      23.50\n2        Pearl Jam        1991.0          4      14.75\n3    Peter Gabriel        1986.0          4      24.00\n4       Pink Floyd        1975.0          4      42.75\n5       Pink Floyd        1987.0          4      15.50\n6            Queen        1977.0          4      30.00\n7   Rolling Stones        1966.0          4      26.75\n8             Rush        1981.0          4      54.25\n9       Steely Dan        1977.0          4       1.75\n10      Supertramp        1979.0          4      59.50",
      "text/html": "<div>\n<style scoped>\n    .dataframe tbody tr th:only-of-type {\n        vertical-align: middle;\n    }\n\n    .dataframe tbody tr th {\n        vertical-align: top;\n    }\n\n    .dataframe thead th {\n        text-align: right;\n    }\n</style>\n<table border=\"1\" class=\"dataframe\">\n  <thead>\n    <tr style=\"text-align: right;\">\n      <th></th>\n      <th>Artist</th>\n      <th>Release_Year</th>\n      <th>num_songs</th>\n      <th>avg_plays</th>\n    </tr>\n  </thead>\n  <tbody>\n    <tr>\n      <th>0</th>\n      <td>Motley Crue</td>\n      <td>1989.0</td>\n      <td>4</td>\n      <td>12.50</td>\n    </tr>\n    <tr>\n      <th>1</th>\n      <td>Ozzy Osbourne</td>\n      <td>1980.0</td>\n      <td>4</td>\n      <td>23.50</td>\n    </tr>\n    <tr>\n      <th>2</th>\n      <td>Pearl Jam</td>\n      <td>1991.0</td>\n      <td>4</td>\n      <td>14.75</td>\n    </tr>\n    <tr>\n      <th>3</th>\n      <td>Peter Gabriel</td>\n      <td>1986.0</td>\n      <td>4</td>\n      <td>24.00</td>\n    </tr>\n    <tr>\n      <th>4</th>\n      <td>Pink Floyd</td>\n      <td>1975.0</td>\n      <td>4</td>\n      <td>42.75</td>\n    </tr>\n    <tr>\n      <th>5</th>\n      <td>Pink Floyd</td>\n      <td>1987.0</td>\n      <td>4</td>\n      <td>15.50</td>\n    </tr>\n    <tr>\n      <th>6</th>\n      <td>Queen</td>\n      <td>1977.0</td>\n      <td>4</td>\n      <td>30.00</td>\n    </tr>\n    <tr>\n      <th>7</th>\n      <td>Rolling Stones</td>\n      <td>1966.0</td>\n      <td>4</td>\n      <td>26.75</td>\n    </tr>\n    <tr>\n      <th>8</th>\n      <td>Rush</td>\n      <td>1981.0</td>\n      <td>4</td>\n      <td>54.25</td>\n    </tr>\n    <tr>\n      <th>9</th>\n      <td>Steely Dan</td>\n      <td>1977.0</td>\n      <td>4</td>\n      <td>1.75</td>\n    </tr>\n    <tr>\n      <th>10</th>\n      <td>Supertramp</td>\n      <td>1979.0</td>\n      <td>4</td>\n      <td>59.50</td>\n    </tr>\n  </tbody>\n</table>\n</div>"
     },
     "metadata": {}
    },
    {
     "output_type": "stream",
     "name": "stdout",
     "text": [
      "observation index :6\n"
     ]
    },
    {
     "output_type": "display_data",
     "data": {
      "text/plain": "          Artist  Release_Year  num_songs  avg_plays\n0       The Cars        1984.0          4   9.750000\n1      The Doors        1971.0          4  32.750000\n2     The Police        1983.0          4  23.500000\n3      Van Halen        1982.0          4  24.500000\n4      Van Halen        1984.0          4  54.000000\n5      Van Halen        1986.0          4  19.250000\n6   Van Morrison        1970.0          4   4.250000\n7            Yes        1971.0          4  20.000000\n8            Yes        1983.0          4  29.250000\n9         ZZ Top        1973.0          4  31.750000\n10     Aerosmith        1974.0          3  11.666667",
      "text/html": "<div>\n<style scoped>\n    .dataframe tbody tr th:only-of-type {\n        vertical-align: middle;\n    }\n\n    .dataframe tbody tr th {\n        vertical-align: top;\n    }\n\n    .dataframe thead th {\n        text-align: right;\n    }\n</style>\n<table border=\"1\" class=\"dataframe\">\n  <thead>\n    <tr style=\"text-align: right;\">\n      <th></th>\n      <th>Artist</th>\n      <th>Release_Year</th>\n      <th>num_songs</th>\n      <th>avg_plays</th>\n    </tr>\n  </thead>\n  <tbody>\n    <tr>\n      <th>0</th>\n      <td>The Cars</td>\n      <td>1984.0</td>\n      <td>4</td>\n      <td>9.750000</td>\n    </tr>\n    <tr>\n      <th>1</th>\n      <td>The Doors</td>\n      <td>1971.0</td>\n      <td>4</td>\n      <td>32.750000</td>\n    </tr>\n    <tr>\n      <th>2</th>\n      <td>The Police</td>\n      <td>1983.0</td>\n      <td>4</td>\n      <td>23.500000</td>\n    </tr>\n    <tr>\n      <th>3</th>\n      <td>Van Halen</td>\n      <td>1982.0</td>\n      <td>4</td>\n      <td>24.500000</td>\n    </tr>\n    <tr>\n      <th>4</th>\n      <td>Van Halen</td>\n      <td>1984.0</td>\n      <td>4</td>\n      <td>54.000000</td>\n    </tr>\n    <tr>\n      <th>5</th>\n      <td>Van Halen</td>\n      <td>1986.0</td>\n      <td>4</td>\n      <td>19.250000</td>\n    </tr>\n    <tr>\n      <th>6</th>\n      <td>Van Morrison</td>\n      <td>1970.0</td>\n      <td>4</td>\n      <td>4.250000</td>\n    </tr>\n    <tr>\n      <th>7</th>\n      <td>Yes</td>\n      <td>1971.0</td>\n      <td>4</td>\n      <td>20.000000</td>\n    </tr>\n    <tr>\n      <th>8</th>\n      <td>Yes</td>\n      <td>1983.0</td>\n      <td>4</td>\n      <td>29.250000</td>\n    </tr>\n    <tr>\n      <th>9</th>\n      <td>ZZ Top</td>\n      <td>1973.0</td>\n      <td>4</td>\n      <td>31.750000</td>\n    </tr>\n    <tr>\n      <th>10</th>\n      <td>Aerosmith</td>\n      <td>1974.0</td>\n      <td>3</td>\n      <td>11.666667</td>\n    </tr>\n  </tbody>\n</table>\n</div>"
     },
     "metadata": {}
    },
    {
     "output_type": "stream",
     "name": "stdout",
     "text": [
      "observation index :7\n"
     ]
    },
    {
     "output_type": "display_data",
     "data": {
      "text/plain": "                  Artist  Release_Year  num_songs  avg_plays\n0              Aerosmith        1987.0          3  33.666667\n1              Aerosmith        1989.0          3  33.333333\n2              Aerosmith        1993.0          3  16.333333\n3           Alice Cooper        1971.0          3  15.333333\n4           Alice Cooper        1973.0          3  14.000000\n5   Allman Brothers Band        1972.0          3   2.666667\n6            Bad Company        1974.0          3  46.000000\n7             Billy Joel        1973.0          3  15.333333\n8             Billy Joel        1980.0          3  18.333333\n9              Bob Dylan        1965.0          3   2.333333\n10             Bob Seger        1977.0          3  10.666667",
      "text/html": "<div>\n<style scoped>\n    .dataframe tbody tr th:only-of-type {\n        vertical-align: middle;\n    }\n\n    .dataframe tbody tr th {\n        vertical-align: top;\n    }\n\n    .dataframe thead th {\n        text-align: right;\n    }\n</style>\n<table border=\"1\" class=\"dataframe\">\n  <thead>\n    <tr style=\"text-align: right;\">\n      <th></th>\n      <th>Artist</th>\n      <th>Release_Year</th>\n      <th>num_songs</th>\n      <th>avg_plays</th>\n    </tr>\n  </thead>\n  <tbody>\n    <tr>\n      <th>0</th>\n      <td>Aerosmith</td>\n      <td>1987.0</td>\n      <td>3</td>\n      <td>33.666667</td>\n    </tr>\n    <tr>\n      <th>1</th>\n      <td>Aerosmith</td>\n      <td>1989.0</td>\n      <td>3</td>\n      <td>33.333333</td>\n    </tr>\n    <tr>\n      <th>2</th>\n      <td>Aerosmith</td>\n      <td>1993.0</td>\n      <td>3</td>\n      <td>16.333333</td>\n    </tr>\n    <tr>\n      <th>3</th>\n      <td>Alice Cooper</td>\n      <td>1971.0</td>\n      <td>3</td>\n      <td>15.333333</td>\n    </tr>\n    <tr>\n      <th>4</th>\n      <td>Alice Cooper</td>\n      <td>1973.0</td>\n      <td>3</td>\n      <td>14.000000</td>\n    </tr>\n    <tr>\n      <th>5</th>\n      <td>Allman Brothers Band</td>\n      <td>1972.0</td>\n      <td>3</td>\n      <td>2.666667</td>\n    </tr>\n    <tr>\n      <th>6</th>\n      <td>Bad Company</td>\n      <td>1974.0</td>\n      <td>3</td>\n      <td>46.000000</td>\n    </tr>\n    <tr>\n      <th>7</th>\n      <td>Billy Joel</td>\n      <td>1973.0</td>\n      <td>3</td>\n      <td>15.333333</td>\n    </tr>\n    <tr>\n      <th>8</th>\n      <td>Billy Joel</td>\n      <td>1980.0</td>\n      <td>3</td>\n      <td>18.333333</td>\n    </tr>\n    <tr>\n      <th>9</th>\n      <td>Bob Dylan</td>\n      <td>1965.0</td>\n      <td>3</td>\n      <td>2.333333</td>\n    </tr>\n    <tr>\n      <th>10</th>\n      <td>Bob Seger</td>\n      <td>1977.0</td>\n      <td>3</td>\n      <td>10.666667</td>\n    </tr>\n  </tbody>\n</table>\n</div>"
     },
     "metadata": {}
    },
    {
     "output_type": "stream",
     "name": "stdout",
     "text": [
      "observation index :8\n"
     ]
    },
    {
     "output_type": "display_data",
     "data": {
      "text/plain": "                          Artist  Release_Year  num_songs  avg_plays\n0                       Bon Jovi        1986.0          3  74.666667\n1              Bruce Springsteen        1978.0          3   1.666667\n2                     Cinderella        1988.0          3   1.666667\n3          Crosby, Stills & Nash        1969.0          3   4.000000\n4   Crosby, Stills, Nash & Young        1970.0          3  16.333333\n5                    David Bowie        1972.0          3   8.666667\n6                    David Bowie        1975.0          3  31.666667\n7                    David Bowie        1983.0          3  11.666667\n8                    Deep Purple        1972.0          3  22.000000\n9                     Don Henley        1985.0          3  29.666667\n10                        Eagles        1972.0          3  35.000000",
      "text/html": "<div>\n<style scoped>\n    .dataframe tbody tr th:only-of-type {\n        vertical-align: middle;\n    }\n\n    .dataframe tbody tr th {\n        vertical-align: top;\n    }\n\n    .dataframe thead th {\n        text-align: right;\n    }\n</style>\n<table border=\"1\" class=\"dataframe\">\n  <thead>\n    <tr style=\"text-align: right;\">\n      <th></th>\n      <th>Artist</th>\n      <th>Release_Year</th>\n      <th>num_songs</th>\n      <th>avg_plays</th>\n    </tr>\n  </thead>\n  <tbody>\n    <tr>\n      <th>0</th>\n      <td>Bon Jovi</td>\n      <td>1986.0</td>\n      <td>3</td>\n      <td>74.666667</td>\n    </tr>\n    <tr>\n      <th>1</th>\n      <td>Bruce Springsteen</td>\n      <td>1978.0</td>\n      <td>3</td>\n      <td>1.666667</td>\n    </tr>\n    <tr>\n      <th>2</th>\n      <td>Cinderella</td>\n      <td>1988.0</td>\n      <td>3</td>\n      <td>1.666667</td>\n    </tr>\n    <tr>\n      <th>3</th>\n      <td>Crosby, Stills &amp; Nash</td>\n      <td>1969.0</td>\n      <td>3</td>\n      <td>4.000000</td>\n    </tr>\n    <tr>\n      <th>4</th>\n      <td>Crosby, Stills, Nash &amp; Young</td>\n      <td>1970.0</td>\n      <td>3</td>\n      <td>16.333333</td>\n    </tr>\n    <tr>\n      <th>5</th>\n      <td>David Bowie</td>\n      <td>1972.0</td>\n      <td>3</td>\n      <td>8.666667</td>\n    </tr>\n    <tr>\n      <th>6</th>\n      <td>David Bowie</td>\n      <td>1975.0</td>\n      <td>3</td>\n      <td>31.666667</td>\n    </tr>\n    <tr>\n      <th>7</th>\n      <td>David Bowie</td>\n      <td>1983.0</td>\n      <td>3</td>\n      <td>11.666667</td>\n    </tr>\n    <tr>\n      <th>8</th>\n      <td>Deep Purple</td>\n      <td>1972.0</td>\n      <td>3</td>\n      <td>22.000000</td>\n    </tr>\n    <tr>\n      <th>9</th>\n      <td>Don Henley</td>\n      <td>1985.0</td>\n      <td>3</td>\n      <td>29.666667</td>\n    </tr>\n    <tr>\n      <th>10</th>\n      <td>Eagles</td>\n      <td>1972.0</td>\n      <td>3</td>\n      <td>35.000000</td>\n    </tr>\n  </tbody>\n</table>\n</div>"
     },
     "metadata": {}
    },
    {
     "output_type": "stream",
     "name": "stdout",
     "text": [
      "observation index :9\n"
     ]
    },
    {
     "output_type": "display_data",
     "data": {
      "text/plain": "                 Artist  Release_Year  num_songs  avg_plays\n0                Eagles        1975.0          3  38.000000\n1            Elton John        1972.0          3  25.666667\n2         Fleetwood Mac        1975.0          3  35.666667\n3          Foo Fighters        1997.0          3   5.333333\n4             Foreigner        1981.0          3  47.000000\n5               Genesis        1981.0          3  21.666667\n6               Genesis        1983.0          3  17.666667\n7   Grand Funk Railroad        1974.0          3   3.666667\n8             Green Day        1994.0          3   7.000000\n9             Green Day        2004.0          3   5.000000\n10                Heart        1976.0          3  81.000000",
      "text/html": "<div>\n<style scoped>\n    .dataframe tbody tr th:only-of-type {\n        vertical-align: middle;\n    }\n\n    .dataframe tbody tr th {\n        vertical-align: top;\n    }\n\n    .dataframe thead th {\n        text-align: right;\n    }\n</style>\n<table border=\"1\" class=\"dataframe\">\n  <thead>\n    <tr style=\"text-align: right;\">\n      <th></th>\n      <th>Artist</th>\n      <th>Release_Year</th>\n      <th>num_songs</th>\n      <th>avg_plays</th>\n    </tr>\n  </thead>\n  <tbody>\n    <tr>\n      <th>0</th>\n      <td>Eagles</td>\n      <td>1975.0</td>\n      <td>3</td>\n      <td>38.000000</td>\n    </tr>\n    <tr>\n      <th>1</th>\n      <td>Elton John</td>\n      <td>1972.0</td>\n      <td>3</td>\n      <td>25.666667</td>\n    </tr>\n    <tr>\n      <th>2</th>\n      <td>Fleetwood Mac</td>\n      <td>1975.0</td>\n      <td>3</td>\n      <td>35.666667</td>\n    </tr>\n    <tr>\n      <th>3</th>\n      <td>Foo Fighters</td>\n      <td>1997.0</td>\n      <td>3</td>\n      <td>5.333333</td>\n    </tr>\n    <tr>\n      <th>4</th>\n      <td>Foreigner</td>\n      <td>1981.0</td>\n      <td>3</td>\n      <td>47.000000</td>\n    </tr>\n    <tr>\n      <th>5</th>\n      <td>Genesis</td>\n      <td>1981.0</td>\n      <td>3</td>\n      <td>21.666667</td>\n    </tr>\n    <tr>\n      <th>6</th>\n      <td>Genesis</td>\n      <td>1983.0</td>\n      <td>3</td>\n      <td>17.666667</td>\n    </tr>\n    <tr>\n      <th>7</th>\n      <td>Grand Funk Railroad</td>\n      <td>1974.0</td>\n      <td>3</td>\n      <td>3.666667</td>\n    </tr>\n    <tr>\n      <th>8</th>\n      <td>Green Day</td>\n      <td>1994.0</td>\n      <td>3</td>\n      <td>7.000000</td>\n    </tr>\n    <tr>\n      <th>9</th>\n      <td>Green Day</td>\n      <td>2004.0</td>\n      <td>3</td>\n      <td>5.000000</td>\n    </tr>\n    <tr>\n      <th>10</th>\n      <td>Heart</td>\n      <td>1976.0</td>\n      <td>3</td>\n      <td>81.000000</td>\n    </tr>\n  </tbody>\n</table>\n</div>"
     },
     "metadata": {}
    },
    {
     "output_type": "stream",
     "name": "stdout",
     "text": [
      "observation index :10\n"
     ]
    },
    {
     "output_type": "display_data",
     "data": {
      "text/plain": "            Artist  Release_Year  num_songs  avg_plays\n0     Janis Joplin        1971.0          3   8.666667\n1      Jethro Tull        1971.0          3  28.666667\n2     Jimi Hendrix        1968.0          3  50.333333\n3          Journey        1978.0          3  73.333333\n4          Journey        1983.0          3  38.333333\n5             Kiss        1976.0          3  11.000000\n6     Led Zeppelin        1982.0          3   4.666667\n7   Lynyrd Skynyrd        1977.0          3  30.666667\n8        Meat Loaf        1977.0          3   6.666667\n9         Montrose        1973.0          3  16.666667\n10      Neil Young        1969.0          3  11.000000",
      "text/html": "<div>\n<style scoped>\n    .dataframe tbody tr th:only-of-type {\n        vertical-align: middle;\n    }\n\n    .dataframe tbody tr th {\n        vertical-align: top;\n    }\n\n    .dataframe thead th {\n        text-align: right;\n    }\n</style>\n<table border=\"1\" class=\"dataframe\">\n  <thead>\n    <tr style=\"text-align: right;\">\n      <th></th>\n      <th>Artist</th>\n      <th>Release_Year</th>\n      <th>num_songs</th>\n      <th>avg_plays</th>\n    </tr>\n  </thead>\n  <tbody>\n    <tr>\n      <th>0</th>\n      <td>Janis Joplin</td>\n      <td>1971.0</td>\n      <td>3</td>\n      <td>8.666667</td>\n    </tr>\n    <tr>\n      <th>1</th>\n      <td>Jethro Tull</td>\n      <td>1971.0</td>\n      <td>3</td>\n      <td>28.666667</td>\n    </tr>\n    <tr>\n      <th>2</th>\n      <td>Jimi Hendrix</td>\n      <td>1968.0</td>\n      <td>3</td>\n      <td>50.333333</td>\n    </tr>\n    <tr>\n      <th>3</th>\n      <td>Journey</td>\n      <td>1978.0</td>\n      <td>3</td>\n      <td>73.333333</td>\n    </tr>\n    <tr>\n      <th>4</th>\n      <td>Journey</td>\n      <td>1983.0</td>\n      <td>3</td>\n      <td>38.333333</td>\n    </tr>\n    <tr>\n      <th>5</th>\n      <td>Kiss</td>\n      <td>1976.0</td>\n      <td>3</td>\n      <td>11.000000</td>\n    </tr>\n    <tr>\n      <th>6</th>\n      <td>Led Zeppelin</td>\n      <td>1982.0</td>\n      <td>3</td>\n      <td>4.666667</td>\n    </tr>\n    <tr>\n      <th>7</th>\n      <td>Lynyrd Skynyrd</td>\n      <td>1977.0</td>\n      <td>3</td>\n      <td>30.666667</td>\n    </tr>\n    <tr>\n      <th>8</th>\n      <td>Meat Loaf</td>\n      <td>1977.0</td>\n      <td>3</td>\n      <td>6.666667</td>\n    </tr>\n    <tr>\n      <th>9</th>\n      <td>Montrose</td>\n      <td>1973.0</td>\n      <td>3</td>\n      <td>16.666667</td>\n    </tr>\n    <tr>\n      <th>10</th>\n      <td>Neil Young</td>\n      <td>1969.0</td>\n      <td>3</td>\n      <td>11.000000</td>\n    </tr>\n  </tbody>\n</table>\n</div>"
     },
     "metadata": {}
    },
    {
     "output_type": "stream",
     "name": "stdout",
     "text": [
      "observation index :11\n"
     ]
    },
    {
     "output_type": "display_data",
     "data": {
      "text/plain": "                              Artist  Release_Year  num_songs  avg_plays\n0                         Neil Young        1972.0          3  11.333333\n1                       Night Ranger        1983.0          3  12.000000\n2                      Ozzy Osbourne        1981.0          3  20.333333\n3                      Ozzy Osbourne        1991.0          3  13.333333\n4                        Pat Benatar        1980.0          3  21.333333\n5   Paul McCartney & Linda McCartney        1971.0          3   1.333333\n6                          Pearl Jam        1994.0          3   6.666667\n7                         Pink Floyd        1967.0          3   1.666667\n8                              Queen        1976.0          3  43.333333\n9                              Queen        1978.0          3  26.000000\n10                       Queensryche        1990.0          3   6.000000",
      "text/html": "<div>\n<style scoped>\n    .dataframe tbody tr th:only-of-type {\n        vertical-align: middle;\n    }\n\n    .dataframe tbody tr th {\n        vertical-align: top;\n    }\n\n    .dataframe thead th {\n        text-align: right;\n    }\n</style>\n<table border=\"1\" class=\"dataframe\">\n  <thead>\n    <tr style=\"text-align: right;\">\n      <th></th>\n      <th>Artist</th>\n      <th>Release_Year</th>\n      <th>num_songs</th>\n      <th>avg_plays</th>\n    </tr>\n  </thead>\n  <tbody>\n    <tr>\n      <th>0</th>\n      <td>Neil Young</td>\n      <td>1972.0</td>\n      <td>3</td>\n      <td>11.333333</td>\n    </tr>\n    <tr>\n      <th>1</th>\n      <td>Night Ranger</td>\n      <td>1983.0</td>\n      <td>3</td>\n      <td>12.000000</td>\n    </tr>\n    <tr>\n      <th>2</th>\n      <td>Ozzy Osbourne</td>\n      <td>1981.0</td>\n      <td>3</td>\n      <td>20.333333</td>\n    </tr>\n    <tr>\n      <th>3</th>\n      <td>Ozzy Osbourne</td>\n      <td>1991.0</td>\n      <td>3</td>\n      <td>13.333333</td>\n    </tr>\n    <tr>\n      <th>4</th>\n      <td>Pat Benatar</td>\n      <td>1980.0</td>\n      <td>3</td>\n      <td>21.333333</td>\n    </tr>\n    <tr>\n      <th>5</th>\n      <td>Paul McCartney &amp; Linda McCartney</td>\n      <td>1971.0</td>\n      <td>3</td>\n      <td>1.333333</td>\n    </tr>\n    <tr>\n      <th>6</th>\n      <td>Pearl Jam</td>\n      <td>1994.0</td>\n      <td>3</td>\n      <td>6.666667</td>\n    </tr>\n    <tr>\n      <th>7</th>\n      <td>Pink Floyd</td>\n      <td>1967.0</td>\n      <td>3</td>\n      <td>1.666667</td>\n    </tr>\n    <tr>\n      <th>8</th>\n      <td>Queen</td>\n      <td>1976.0</td>\n      <td>3</td>\n      <td>43.333333</td>\n    </tr>\n    <tr>\n      <th>9</th>\n      <td>Queen</td>\n      <td>1978.0</td>\n      <td>3</td>\n      <td>26.000000</td>\n    </tr>\n    <tr>\n      <th>10</th>\n      <td>Queensryche</td>\n      <td>1990.0</td>\n      <td>3</td>\n      <td>6.000000</td>\n    </tr>\n  </tbody>\n</table>\n</div>"
     },
     "metadata": {}
    },
    {
     "output_type": "stream",
     "name": "stdout",
     "text": [
      "observation index :12\n"
     ]
    },
    {
     "output_type": "display_data",
     "data": {
      "text/plain": "               Artist  Release_Year  num_songs  avg_plays\n0         Rod Stewart        1971.0          3  23.000000\n1      Rolling Stones        1968.0          3  53.666667\n2      Rolling Stones        1973.0          3  18.666667\n3      Rolling Stones        1978.0          3  70.333333\n4      Rolling Stones        1981.0          3  29.333333\n5                Rush        1980.0          3  46.333333\n6             Santana        1969.0          3  13.333333\n7           Scorpions        1984.0          3  29.333333\n8            Skid Row        1989.0          3  23.000000\n9         Soundgarden        1994.0          3   8.666667\n10  Steve Miller Band        1976.0          3  86.000000",
      "text/html": "<div>\n<style scoped>\n    .dataframe tbody tr th:only-of-type {\n        vertical-align: middle;\n    }\n\n    .dataframe tbody tr th {\n        vertical-align: top;\n    }\n\n    .dataframe thead th {\n        text-align: right;\n    }\n</style>\n<table border=\"1\" class=\"dataframe\">\n  <thead>\n    <tr style=\"text-align: right;\">\n      <th></th>\n      <th>Artist</th>\n      <th>Release_Year</th>\n      <th>num_songs</th>\n      <th>avg_plays</th>\n    </tr>\n  </thead>\n  <tbody>\n    <tr>\n      <th>0</th>\n      <td>Rod Stewart</td>\n      <td>1971.0</td>\n      <td>3</td>\n      <td>23.000000</td>\n    </tr>\n    <tr>\n      <th>1</th>\n      <td>Rolling Stones</td>\n      <td>1968.0</td>\n      <td>3</td>\n      <td>53.666667</td>\n    </tr>\n    <tr>\n      <th>2</th>\n      <td>Rolling Stones</td>\n      <td>1973.0</td>\n      <td>3</td>\n      <td>18.666667</td>\n    </tr>\n    <tr>\n      <th>3</th>\n      <td>Rolling Stones</td>\n      <td>1978.0</td>\n      <td>3</td>\n      <td>70.333333</td>\n    </tr>\n    <tr>\n      <th>4</th>\n      <td>Rolling Stones</td>\n      <td>1981.0</td>\n      <td>3</td>\n      <td>29.333333</td>\n    </tr>\n    <tr>\n      <th>5</th>\n      <td>Rush</td>\n      <td>1980.0</td>\n      <td>3</td>\n      <td>46.333333</td>\n    </tr>\n    <tr>\n      <th>6</th>\n      <td>Santana</td>\n      <td>1969.0</td>\n      <td>3</td>\n      <td>13.333333</td>\n    </tr>\n    <tr>\n      <th>7</th>\n      <td>Scorpions</td>\n      <td>1984.0</td>\n      <td>3</td>\n      <td>29.333333</td>\n    </tr>\n    <tr>\n      <th>8</th>\n      <td>Skid Row</td>\n      <td>1989.0</td>\n      <td>3</td>\n      <td>23.000000</td>\n    </tr>\n    <tr>\n      <th>9</th>\n      <td>Soundgarden</td>\n      <td>1994.0</td>\n      <td>3</td>\n      <td>8.666667</td>\n    </tr>\n    <tr>\n      <th>10</th>\n      <td>Steve Miller Band</td>\n      <td>1976.0</td>\n      <td>3</td>\n      <td>86.000000</td>\n    </tr>\n  </tbody>\n</table>\n</div>"
     },
     "metadata": {}
    }
   ],
   "source": [
    "query='''\n",
    "SELECT Artist, Release_Year, COUNT(*) AS num_songs, AVG(PlayCount) AS avg_plays  \n",
    "    FROM rock_songs\n",
    "    GROUP BY Artist, Release_Year\n",
    "    ORDER BY num_songs desc;\n",
    "'''\n",
    "\n",
    "# Execute the query\n",
    "\n",
    "observations_generator = pd.read_sql(query, con,  coerce_float= True , parse_dates= ['Relase_year'],  chunksize= 11)\n",
    "\n",
    "for index, observation in enumerate(observations_generator):\n",
    "    if index < 13:\n",
    "        print(f'observation index :{index}'. format(index))\n",
    "        display(observation)\n",
    "\n"
   ]
  },
  {
   "cell_type": "code",
   "execution_count": 26,
   "metadata": {},
   "outputs": [
    {
     "output_type": "stream",
     "name": "stdout",
     "text": [
      "index : 0: Value :1\nindex : 1: Value :2\nindex : 2: Value :3\nindex : 3: Value :4\nindex : 4: Value :5\n"
     ]
    }
   ],
   "source": [
    "list = [1,2,3,4,5]\n",
    "for index, a in enumerate(list):\n",
    "     print(f\"index : {index}: Value :{a}\".format(index,a))"
   ]
  }
 ],
 "metadata": {
  "kernelspec": {
   "name": "python385jvsc74a57bd02678d1fd77d063289def3227202f6d686e39f105e03dc34e17eba2fd34326a41",
   "display_name": "Python 3.8.5 64-bit ('base': conda)"
  },
  "language_info": {
   "codemirror_mode": {
    "name": "ipython",
    "version": 3
   },
   "file_extension": ".py",
   "mimetype": "text/x-python",
   "name": "python",
   "nbconvert_exporter": "python",
   "pygments_lexer": "ipython3",
   "version": "3.8.5"
  }
 },
 "nbformat": 4,
 "nbformat_minor": 4
}